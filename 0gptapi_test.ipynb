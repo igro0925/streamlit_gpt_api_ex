{
 "cells": [
  {
   "cell_type": "code",
   "execution_count": 1,
   "id": "a539603d",
   "metadata": {},
   "outputs": [],
   "source": [
    "from dotenv import load_dotenv\n",
    "import os\n",
    "\n",
    "# .env 파일에 저장된 환경변수 로드\n",
    "load_dotenv(override=True)\n",
    "OPENAI_API_KEY = os.getenv(\"OPENAI_API_KEY\")\n",
    "\n",
    "\n",
    "from openai import OpenAI\n",
    "\n",
    "# openai api 인증 및 openai 객체 생성\n",
    "client = OpenAI(api_key=OPENAI_API_KEY)\n"
   ]
  },
  {
   "cell_type": "code",
   "execution_count": 2,
   "id": "efcdfcf3",
   "metadata": {},
   "outputs": [],
   "source": [
    "completion = client.chat.completions.create(\n",
    "    model=\"gpt-3.5-turbo\", # 테스트는 싼거로\n",
    "    messages=[\n",
    "        # System 프롬프트\n",
    "        {\n",
    "            \"role\": \"system\",\n",
    "            \"content\": \"너는 IT 전문가야. 초등학생도 이해할 수 있도록 답변 부탁해.\"\n",
    "        },\n",
    "        # User 프롬프트\n",
    "        {\n",
    "            \"role\": \"user\",\n",
    "            \"content\": \"클라우드와 플랫폼의 차이를 설명해줘\"\n",
    "        }\n",
    "    ]\n",
    ")"
   ]
  },
  {
   "cell_type": "code",
   "execution_count": null,
   "id": "0851b941",
   "metadata": {},
   "outputs": [],
   "source": [
    "print(completion.choices[0].messag)"
   ]
  }
 ],
 "metadata": {
  "kernelspec": {
   "display_name": "gpt_env",
   "language": "python",
   "name": "python3"
  },
  "language_info": {
   "codemirror_mode": {
    "name": "ipython",
    "version": 3
   },
   "file_extension": ".py",
   "mimetype": "text/x-python",
   "name": "python",
   "nbconvert_exporter": "python",
   "pygments_lexer": "ipython3",
   "version": "3.12.12"
  }
 },
 "nbformat": 4,
 "nbformat_minor": 5
}
